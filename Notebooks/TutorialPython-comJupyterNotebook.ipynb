{
 "cells": [
  {
   "cell_type": "markdown",
   "metadata": {
    "id": "dzNng6vCL9eP"
   },
   "source": [
    "## Tutorial de Python com Jupyter Notebook"
   ]
  },
  {
   "cell_type": "markdown",
   "metadata": {
    "id": "0vJLt3JRL9eR"
   },
   "source": [
    "Este tutorial foi traduzido e adaptado por [Rui Marcelino](https://orcid.org/0000-0001-8717-3243) para as sessões de Tracking, da [Pós-Graduação em Football Anaytics](https://www.europeia.pt/online/formacao-de-executivos/pos-graduacoes/football-analytics) da Universidade Europeia, para o ano de 2021-2022. Atualizado em 21/03/2022\n",
    "\n",
    "O tutorial foi escrito originalmente por [Justin Johnson](https://web.eecs.umich.edu/~justincj/) para cs231n e adaptado enquando Jupyter notebook para cs228 por [Volodymyr Kuleshov](http://web.stanford.edu/~kuleshov/) e [Isaac Caswell](https://symsys.stanford.edu/viewing/symsysaffiliate/21335). Existe uma versão disponível em [Google Colab](https://colab.research.google.com/github/cs231n/cs231n.github.io/blob/master/jupyter-notebook-tutorial.ipynb#scrollTo=HvlSN5hlucGz)\n",
    "\n",
    "Esta versão foi adaptada como um notebook Jupyter com suporte Python3 por Kevin Zakka para a edição Spring 2020 de [cs231n](http://cs231n.stanford.edu/)."
   ]
  },
  {
   "cell_type": "markdown",
   "metadata": {
    "id": "rLQRoBBaucGz"
   },
   "source": [
    "## O que é um Jupyter Notebook?"
   ]
  },
  {
   "cell_type": "markdown",
   "metadata": {
    "id": "HvlSN5hlucGz"
   },
   "source": [
    "Um Jupyter Notebbok é composto de várias células. Cada célula pode conter código Python. Existem dois tipos principais de células: células `Code` e células` Markdown`. Esta célula em particular é uma célula `Markdown`. Podes executar esta célula em particular clicando duas vezes nela (a cor de destaque mudará de azul para verde) ou pressionando `Shift-Enter`. Ao fazer isso, se a célula for uma célula de `Código`, o código na célula será executado e a saída da célula será exibida abaixo da célula e, se a célula for uma célula de` Markdown`, o texto de marcação será renderizado abaixo da célula.\n",
    "\n",
    "Avança e tente executar esta célula."
   ]
  },
  {
   "cell_type": "markdown",
   "metadata": {
    "id": "yNd6xbPzucGz"
   },
   "source": [
    "A célula abaixo é uma célula de `Código`. Vai em frente, clique nela e execute-a."
   ]
  },
  {
   "cell_type": "code",
   "execution_count": null,
   "metadata": {
    "id": "rQDsFTAvucG0",
    "outputId": "f0f4bcd5-308d-421d-d2c7-593082ca6aa2"
   },
   "outputs": [],
   "source": [
    "x = 1\n",
    "print(x)"
   ]
  },
  {
   "cell_type": "markdown",
   "metadata": {
    "id": "mgsRd8FwucG0"
   },
   "source": [
    "Variáveis globais são compartilhadas entre células. Tente executar a célula abaixo:"
   ]
  },
  {
   "cell_type": "code",
   "execution_count": null,
   "metadata": {
    "id": "Z3vRey0NucG1",
    "outputId": "d59786da-50d8-4f3c-fcf1-bd422f2ef4f8"
   },
   "outputs": [],
   "source": [
    "y = 2 * x\n",
    "print(y)"
   ]
  },
  {
   "cell_type": "markdown",
   "metadata": {
    "id": "ab3uiierucG1"
   },
   "source": [
    "### Atalhos do teclado\n",
    "\n",
    "Existem alguns atalhos de teclado que devem conhecer para tornar a experiência do notebook mais agradável. Para escapar da edição de uma célula, pressione `esc`. O escape de uma célula `Markdown` não irá renderizá-la, então certifique-se de executá-la se quiser renderizar o _markdown_. Observe como a cor de realce muda de volta para azul quando você sai de uma célula.\n",
    "\n",
    "É possível navegar entre as células pressionando as teclas de seta. Executar uma célula desloca automaticamente o cursor da célula 1 célula para baixo, se houver, ou cria uma nova célula abaixo da atual, se não houver nenhuma.\n",
    "\n",
    "* Para colocar uma célula abaixo da atual, pressione `b`.\n",
    "* Para colocar uma célula acima da atual, pressione `a`.\n",
    "* Para excluir uma célula, pressione `dd`.\n",
    "* Para converter uma célula em `Markdown` pressione` m`. Observe que você deve estar no modo `esc`.\n",
    "* Para convertê-lo de volta para `Código` pressione` y`. Observe que você deve estar no modo `esc`.\n",
    "\n",
    "Familiariza-re com esses atalhos de teclado, são bastante úteis!"
   ]
  },
  {
   "cell_type": "markdown",
   "metadata": {
    "id": "QhCRBxMlucG1"
   },
   "source": [
    "Un notebook pode ser reiniciar, limpando todas as células clicando em `Kernel -> Restart & Clear Output`. Se não quiser limpar as saídas das células, basta clicar em `Kernel -> Restartr`.\n",
    "\n",
    "Por convenção, espera-se que os notebooks Jupyter sejam executados de cima para baixo. Deixar de executar algumas células ou executar células fora de ordem pode resultar em erros. Depois de reiniciar o notebook, tente executar o `y = 2 * x` célula 2 células acima e observe o que acontece."
   ]
  },
  {
   "cell_type": "markdown",
   "metadata": {
    "id": "SUUSILkbucG2"
   },
   "source": [
    "Depois de modificar um bloco de anotações Jupyter para uma das atribuições, modificando ou executando algumas de suas células, lembre-se de salvar suas alterações! Você pode salvar com o atalho `Command / Control + s` ou clicando em` File -> Save and Checkpoint`."
   ]
  },
  {
   "cell_type": "markdown",
   "metadata": {
    "id": "dY7OfP-HucG2"
   },
   "source": [
    "Esta foi apenas uma breve introdução aos blocos de notas do Jupyter, mas deve ser o suficiente para que comecem a trabalhar com as tarefas deste curso."
   ]
  },
  {
   "cell_type": "markdown",
   "metadata": {
    "id": "qVrTo-LhL9eS"
   },
   "source": [
    "## Python Tutorial"
   ]
  },
  {
   "cell_type": "markdown",
   "metadata": {
    "id": "9t1gKp9PL9eV"
   },
   "source": [
    "Python é uma linguagem de programação de propósito geral por si só, mas com a ajuda de algumas bibliotecas `libraries` populares (numpy, scipy, matplotli, ...) torna-se um ambiente poderoso para computação científica."
   ]
  },
  {
   "cell_type": "markdown",
   "metadata": {
    "id": "U1PvreR9L9eW"
   },
   "source": [
    "Neste tutorial, vamos cobrir:\n",
    "\n",
    "* Python básico: tipos de dados básicos (Containers, listas, dicionários, conjuntos, tuplas), funções, classes\n",
    "* Numpy: matrizes, indexação de matrizes, tipos de dados, matemática de matrizes, transmissão\n",
    "* Matplotlib: criação de gráficos, subtramas, imagens\n",
    "* IPython: Criação de notebooks, fluxos de trabalho típicos"
   ]
  },
  {
   "cell_type": "markdown",
   "metadata": {
    "id": "nxvEkGXPM3Xh"
   },
   "source": [
    "## Uma breve nota sobre as versões do Python\n",
    "\n",
    "Desde 1º de janeiro de 2020, Python tem [oficialmente cancelado o suporte] (https://www.python.org/doc/sunset-python-2/) para `python2`. ** Estaremos usando Python 3.8 para esta iteração do curso. **\n",
    "\n"
   ]
  },
  {
   "cell_type": "code",
   "execution_count": null,
   "metadata": {
    "colab": {
     "base_uri": "https://localhost:8080/",
     "height": 34
    },
    "id": "1L4Am0QATgOc",
    "outputId": "bb5ee3ac-8683-44ab-e599-a2077510f327"
   },
   "outputs": [],
   "source": [
    "!python --version"
   ]
  },
  {
   "cell_type": "markdown",
   "metadata": {
    "id": "JAFKYgrpL9eY"
   },
   "source": [
    "## Fundamentos de Python"
   ]
  },
  {
   "cell_type": "markdown",
   "metadata": {
    "id": "RbFS6tdgL9ea"
   },
   "source": [
    "Python é uma linguagem de programação multiparadigma de tipo dinâmico de alto nível. O código Python costuma ser considerado quase como um pseudocódigo, pois permite que se expressem ideias muito poderosas em poucas linhas de código e, ao mesmo tempo, é muito legível. Como exemplo, aqui está uma implementação do algoritmo clássico de classificação rápida em Python:"
   ]
  },
  {
   "cell_type": "code",
   "execution_count": null,
   "metadata": {
    "colab": {
     "base_uri": "https://localhost:8080/",
     "height": 34
    },
    "id": "cYb0pjh1L9eb",
    "outputId": "9a8e37de-1dc1-4092-faee-06ad4ff2d73a"
   },
   "outputs": [],
   "source": [
    "def quicksort(arr):\n",
    "    if len(arr) <= 1:\n",
    "        return arr\n",
    "    pivot = arr[len(arr) // 2]\n",
    "    left = [x for x in arr if x < pivot]\n",
    "    middle = [x for x in arr if x == pivot]\n",
    "    right = [x for x in arr if x > pivot]\n",
    "    return quicksort(left) + middle + quicksort(right)\n",
    "\n",
    "print(quicksort([3,6,8,10,1,2,1]))"
   ]
  },
  {
   "cell_type": "markdown",
   "metadata": {},
   "source": [
    "Aqui está o que a classe acima está a fazer:\n",
    "\n",
    "    1. Quando a classe é instanciada, ela cria um atributo de instância chamado\n",
    "    `arr` e atribui a ele o valor do argumento de entrada` arr`.\n",
    "\n",
    "    2. Existe um método chamado `quicksort` que leva um array como entrada\n",
    "    argumento.\n",
    "\n",
    "    3. Dentro do método `quicksort`, a primeira coisa que ele faz é verificar se o\n",
    "    o comprimento da matriz é menor ou igual a um. Se isso for verdade, o\n",
    "    método retorna a matriz.\n",
    "\n",
    "    4. Se o comprimento for maior que um, o código cria um atributo\n",
    "    chamado `pivot` e o atribui ao valor do item no índice do meio\n",
    "    da matriz.\n",
    "\n",
    "    5. O código cria um atributo chamado `left` e o atribui a um array\n",
    "    contendo todos os itens na matriz de entrada que são menores que o valor de\n",
    "    o atributo `pivot`.\n",
    "\n",
    "    6. O código cria um atributo chamado `middle` e o atribui a um array\n",
    "    contendo todos os itens na matriz de entrada que são iguais ao valor de\n",
    "    o atributo `pivot`.\n",
    "\n",
    "    7. O código cria um atributo chamado `right` e o atribui a um array\n",
    "    contendo todos os itens na matriz de entrada que são maiores que o valor\n",
    "    do atributo `pivot`.\n",
    "\n",
    "    8. O código retorna a concatenação do resultado da chamada recursiva\n",
    "    o método `quicksort` no array` left`, o array `middle`, e o\n",
    "    array `right`.\n",
    "    \n",
    "\n",
    "Esta é o resultado a quando o código é executado na matriz de entrada\n",
    "`[3,6,8,10,1,2,1]`:\n",
    "\n",
    "     >>> s = Solution ([3,6,8,10,1,2,1])\n",
    "     >>> s.quicksort ([3,6,8,10,1,2,1])\n",
    "     [1, 1, 2, 3, 6, 8, 10]\n",
    "\n",
    "e se\n",
    ">>> s = Solution ([4,5,4,10,12,12,1])\n",
    "\n",
    ">>> s.quicksort ([4,5,4,10,12,12,1])\n",
    "\n",
    "então a saída é:\n",
    "\n",
    "     [1, 4, 4, 5, 10, 12, 12]"
   ]
  },
  {
   "cell_type": "markdown",
   "metadata": {},
   "source": [
    "Experimenta utilizar aquele conjunto de dados"
   ]
  },
  {
   "cell_type": "markdown",
   "metadata": {
    "id": "NwS_hu4xL9eo"
   },
   "source": [
    "### Tipo de dados básicos"
   ]
  },
  {
   "cell_type": "markdown",
   "metadata": {
    "id": "DL5sMSZ9L9eq"
   },
   "source": [
    "#### Números"
   ]
  },
  {
   "cell_type": "markdown",
   "metadata": {
    "id": "MGS0XEWoL9er"
   },
   "source": [
    "Inteiros e decimais (floats) funcionam como você esperaria de outras linguagens:"
   ]
  },
  {
   "cell_type": "code",
   "execution_count": null,
   "metadata": {
    "colab": {
     "base_uri": "https://localhost:8080/",
     "height": 52
    },
    "id": "KheDr_zDL9es",
    "outputId": "1db9f4d3-2e0d-4008-f78a-161ed52c4359"
   },
   "outputs": [],
   "source": [
    "x = 3\n",
    "print(x, type(x))"
   ]
  },
  {
   "cell_type": "code",
   "execution_count": null,
   "metadata": {
    "colab": {
     "base_uri": "https://localhost:8080/",
     "height": 86
    },
    "id": "sk_8DFcuL9ey",
    "outputId": "dd60a271-3457-465d-e16a-41acf12a56ab"
   },
   "outputs": [],
   "source": [
    "print(x + 1)   # Addition\n",
    "print(x - 1)   # Subtraction\n",
    "print(x * 2)   # Multiplication\n",
    "print(x ** 2)  # Exponentiation"
   ]
  },
  {
   "cell_type": "code",
   "execution_count": null,
   "metadata": {
    "colab": {
     "base_uri": "https://localhost:8080/",
     "height": 52
    },
    "id": "U4Jl8K0tL9e4",
    "outputId": "07e3db14-3781-42b7-8ba6-042b3f9f72ba"
   },
   "outputs": [],
   "source": [
    "x += 1\n",
    "print(x)\n",
    "x *= 2\n",
    "print(x)"
   ]
  },
  {
   "cell_type": "code",
   "execution_count": null,
   "metadata": {
    "colab": {
     "base_uri": "https://localhost:8080/",
     "height": 52
    },
    "id": "w-nZ0Sg_L9e9",
    "outputId": "3aa579f8-9540-46ef-935e-be887781ecb4"
   },
   "outputs": [],
   "source": [
    "y = 2.5\n",
    "print(type(y))\n",
    "print(y, y + 1, y * 2, y ** 2)"
   ]
  },
  {
   "cell_type": "markdown",
   "metadata": {
    "id": "r2A9ApyaL9fB"
   },
   "source": [
    "Observa que, ao contrário de muitas linguagens, Python não tem operadores de incremento (x ++) ou decremento (x--) unário.\n",
    "\n",
    "Python também possui tipos embutidos para inteiros longos e números complexos; podes encontrar todos os detalhes na [documentação] (https://docs.python.org/3.8/library/stdtypes.html#numeric-types-int-float-long-complex)."
   ]
  },
  {
   "cell_type": "markdown",
   "metadata": {
    "id": "EqRS7qhBL9fC"
   },
   "source": [
    "#### Booleanos"
   ]
  },
  {
   "cell_type": "markdown",
   "metadata": {
    "id": "Nv_LIVOJL9fD"
   },
   "source": [
    "Python implementa todos os operadores usuais para lógica booleana, mas usa palavras em inglês em vez de símbolos (`&&`, `||`, etc.):"
   ]
  },
  {
   "cell_type": "code",
   "execution_count": null,
   "metadata": {
    "colab": {
     "base_uri": "https://localhost:8080/",
     "height": 34
    },
    "id": "RvoImwgGL9fE",
    "outputId": "1517077b-edca-463f-857b-6a8c386cd387"
   },
   "outputs": [],
   "source": [
    "t, f = True, False\n",
    "print(type(t))"
   ]
  },
  {
   "cell_type": "markdown",
   "metadata": {
    "id": "YQgmQfOgL9fI"
   },
   "source": [
    "Agora vamos dar ver as operações lógicas:"
   ]
  },
  {
   "cell_type": "code",
   "execution_count": null,
   "metadata": {
    "colab": {
     "base_uri": "https://localhost:8080/",
     "height": 86
    },
    "id": "6zYm7WzCL9fK",
    "outputId": "f3cebe76-5af4-473a-8127-88a1fd60560f"
   },
   "outputs": [],
   "source": [
    "print(t and f) # Logical AND;\n",
    "print(t or f)  # Logical OR;\n",
    "print(not t)   # Logical NOT;\n",
    "print(t != f)  # Logical XOR;"
   ]
  },
  {
   "cell_type": "markdown",
   "metadata": {
    "id": "UQnQWFEyL9fP"
   },
   "source": [
    "#### Strings"
   ]
  },
  {
   "cell_type": "code",
   "execution_count": null,
   "metadata": {
    "colab": {
     "base_uri": "https://localhost:8080/",
     "height": 34
    },
    "id": "AijEDtPFL9fP",
    "outputId": "2a6b0cd7-58f1-43cf-e6b7-bf940d532549"
   },
   "outputs": [],
   "source": [
    "hello = 'hello'   # String literais podem usar aspas simples\n",
    "world = \"world\"   # ou aspas duplas; não faz diferença\n",
    "print(hello, len(hello))"
   ]
  },
  {
   "cell_type": "code",
   "execution_count": null,
   "metadata": {
    "colab": {
     "base_uri": "https://localhost:8080/",
     "height": 34
    },
    "id": "saDeaA7hL9fT",
    "outputId": "2837d0ab-9ae5-4053-d087-bfa0af81c344"
   },
   "outputs": [],
   "source": [
    "hw = hello + ' ' + world  # String concatenation\n",
    "print(hw)"
   ]
  },
  {
   "cell_type": "code",
   "execution_count": null,
   "metadata": {
    "colab": {
     "base_uri": "https://localhost:8080/",
     "height": 34
    },
    "id": "Nji1_UjYL9fY",
    "outputId": "0149b0ca-425a-4a34-8e24-8dff7080922e"
   },
   "outputs": [],
   "source": [
    "hw12 = '{} {} {}'.format(hello, world, 12)  # string formatting\n",
    "print(hw12)"
   ]
  },
  {
   "cell_type": "markdown",
   "metadata": {
    "id": "bUpl35bIL9fc"
   },
   "source": [
    "Os objetos String têm vários métodos úteis; por exemplo:"
   ]
  },
  {
   "cell_type": "code",
   "execution_count": null,
   "metadata": {
    "colab": {
     "base_uri": "https://localhost:8080/",
     "height": 121
    },
    "id": "VOxGatlsL9fd",
    "outputId": "ab009df3-8643-4d3e-f85f-a813b70db9cb"
   },
   "outputs": [],
   "source": [
    "s = \"hello\"\n",
    "print(s.capitalize())  # Capitalize a string\n",
    "print(s.upper())       # Converta uma string em maiúsculas; imprime \"HELLO\"\n",
    "print(s.rjust(7))      # Justifique uma string à direita, preenchendo com espaços\n",
    "print(s.center(7))     # Centralize uma string, preenchendo com espaços\n",
    "print(s.replace('l', '(ell)'))  # Substitua todas as ocorrências de uma substring por outra\n",
    "print('  world '.strip())  # Retire os espaços em branco à esquerda e à direita"
   ]
  },
  {
   "cell_type": "markdown",
   "metadata": {
    "id": "06cayXLtL9fi"
   },
   "source": [
    "Podes encontrar uma lista de todos os métodos aplicados às strings aqui: [documentação](https://docs.python.org/3.8/library/stdtypes.html#string-methods)."
   ]
  },
  {
   "cell_type": "markdown",
   "metadata": {
    "id": "p-6hClFjL9fk"
   },
   "source": [
    "### Containers"
   ]
  },
  {
   "cell_type": "markdown",
   "metadata": {
    "id": "FD9H18eQL9fk"
   },
   "source": [
    "Python inclui vários tipos de containers integrados: listas, dicionários, conjuntos e tuplas."
   ]
  },
  {
   "cell_type": "markdown",
   "metadata": {
    "id": "UsIWOe0LL9fn"
   },
   "source": [
    "#### Listas"
   ]
  },
  {
   "cell_type": "markdown",
   "metadata": {
    "id": "wzxX7rgWL9fn"
   },
   "source": [
    "Uma lista é o equivalente em Python de uma matriz `array`, mas pode ser redimensionada e pode conter elementos de diferentes tipos:"
   ]
  },
  {
   "cell_type": "code",
   "execution_count": null,
   "metadata": {
    "colab": {
     "base_uri": "https://localhost:8080/",
     "height": 52
    },
    "id": "hk3A8pPcL9fp",
    "outputId": "b545939a-580c-4356-db95-7ad3670b46e4"
   },
   "outputs": [],
   "source": [
    "xs = [3, 1, 2]   # Cria uma lista\n",
    "print(xs, xs[2])\n",
    "print(xs[-1])     # Os índices negativos contam a partir do final da lista; imprime \"2\""
   ]
  },
  {
   "cell_type": "code",
   "execution_count": null,
   "metadata": {
    "colab": {
     "base_uri": "https://localhost:8080/",
     "height": 34
    },
    "id": "YCjCy_0_L9ft",
    "outputId": "417c54ff-170b-4372-9099-0f756f8e48af"
   },
   "outputs": [],
   "source": [
    "xs[2] = 'foo'    # As listas podem conter elementos de diferentes tipos\n",
    "print(xs)"
   ]
  },
  {
   "cell_type": "code",
   "execution_count": null,
   "metadata": {
    "colab": {
     "base_uri": "https://localhost:8080/",
     "height": 34
    },
    "id": "vJ0x5cF-L9fx",
    "outputId": "a97731a3-70e1-4553-d9e0-2aea227cac80"
   },
   "outputs": [],
   "source": [
    "xs.append('bar') # Adicione um novo elemento ao final da lista\n",
    "print(xs)  "
   ]
  },
  {
   "cell_type": "code",
   "execution_count": null,
   "metadata": {
    "colab": {
     "base_uri": "https://localhost:8080/",
     "height": 34
    },
    "id": "cxVCNRTNL9f1",
    "outputId": "508fbe59-20aa-48b5-a1b2-f90363e7a104"
   },
   "outputs": [],
   "source": [
    "x = xs.pop()     # Remova e retorne o último elemento da lista\n",
    "print(x, xs)"
   ]
  },
  {
   "cell_type": "markdown",
   "metadata": {
    "id": "ilyoyO34L9f4"
   },
   "source": [
    "Como sempre, podem encontrar todos os detalhes sobre as listas na [documentação](https://docs.python.org/3.8/tutorial/datastructures.html#more-on-lists)."
   ]
  },
  {
   "cell_type": "markdown",
   "metadata": {
    "id": "ovahhxd_L9f5"
   },
   "source": [
    "#### Slicing"
   ]
  },
  {
   "cell_type": "markdown",
   "metadata": {
    "id": "YeSYKhv9L9f6"
   },
   "source": [
    "Além de acessar os elementos da lista um por vez, o Python fornece uma sintaxe concisa para acessar as sublistas; isso é conhecido como slicing:"
   ]
  },
  {
   "cell_type": "code",
   "execution_count": null,
   "metadata": {
    "colab": {
     "base_uri": "https://localhost:8080/",
     "height": 139
    },
    "id": "ninq666bL9f6",
    "outputId": "c3c2ed92-7358-4fdb-bbc0-e90f82e7e941"
   },
   "outputs": [],
   "source": [
    "nums = list(range(5))    # intervalo é uma função incorporada que cria uma lista de inteiros\n",
    "print(nums)         # Imprime \"[0, 1, 2, 3, 4]\"\n",
    "print(nums[2:4])    # Obtenha uma fatia do índice 2 a 4 (exclusivo); imprime \"[2, 3]\"\n",
    "print(nums[2:])     # Obtenha uma fatia do índice 2 até o final; imprime \"[2, 3, 4]\"\n",
    "print(nums[:2])     # Obtenha uma do início ao índice 2 (exclusivo); imprime \"[0, 1]\"\n",
    "print(nums[:])      # Obtenha uma de toda a lista; imprime [\"0, 1, 2, 3, 4]\"\n",
    "print(nums[:-1])    # Os índices de fatia podem ser negativos; imprime [\"0, 1, 2, 3]\"\n",
    "nums[2:4] = [8, 9]  # Atribuir uma nova sublista a uma fatia\n",
    "print(nums)         # Imprime \"[0, 1, 8, 9, 4]\""
   ]
  },
  {
   "cell_type": "markdown",
   "metadata": {
    "id": "UONpMhF4L9f_"
   },
   "source": [
    "#### Loops"
   ]
  },
  {
   "cell_type": "markdown",
   "metadata": {
    "id": "_DYz1j6QL9f_"
   },
   "source": [
    "É possível repetir `loop` os elementos de uma lista como esta:"
   ]
  },
  {
   "cell_type": "code",
   "execution_count": null,
   "metadata": {
    "colab": {
     "base_uri": "https://localhost:8080/",
     "height": 69
    },
    "id": "4cCOysfWL9gA",
    "outputId": "560e46c7-279c-409a-838c-64bea8d321c4"
   },
   "outputs": [],
   "source": [
    "animals = ['cat', 'dog', 'monkey']\n",
    "for animal in animals:\n",
    "    print(animal)"
   ]
  },
  {
   "cell_type": "markdown",
   "metadata": {
    "id": "KxIaQs7pL9gE"
   },
   "source": [
    "Se quisermos aceder ao índice de cada elemento dentro do corpo de um loop, usamos a função incorporada `enumerate`:"
   ]
  },
  {
   "cell_type": "code",
   "execution_count": null,
   "metadata": {
    "colab": {
     "base_uri": "https://localhost:8080/",
     "height": 69
    },
    "id": "JjGnDluWL9gF",
    "outputId": "81421905-17ea-4c5a-bcc0-176de19fd9bd"
   },
   "outputs": [],
   "source": [
    "animals = ['cat', 'dog', 'monkey']\n",
    "for idx, animal in enumerate(animals):\n",
    "    print('#{}: {}'.format(idx + 1, animal))"
   ]
  },
  {
   "cell_type": "markdown",
   "metadata": {
    "id": "arrLCcMyL9gK"
   },
   "source": [
    "#### List comprehensions"
   ]
  },
  {
   "cell_type": "markdown",
   "metadata": {
    "id": "5Qn2jU_pL9gL"
   },
   "source": [
    "Ao programar, frequentemente queremos transformar um tipo de dado noutro. Como um exemplo simples, considera o seguinte código que calcula números quadrados:"
   ]
  },
  {
   "cell_type": "code",
   "execution_count": null,
   "metadata": {
    "colab": {
     "base_uri": "https://localhost:8080/",
     "height": 34
    },
    "id": "IVNEwoMXL9gL",
    "outputId": "d571445b-055d-45f0-f800-24fd76ceec5a"
   },
   "outputs": [],
   "source": [
    "nums = [0, 1, 2, 3, 4]\n",
    "squares = []\n",
    "for x in nums:\n",
    "    squares.append(x ** 2)\n",
    "print(squares)"
   ]
  },
  {
   "cell_type": "markdown",
   "metadata": {
    "id": "7DmKVUFaL9gQ"
   },
   "source": [
    "É possível tornar este código mais simples, fazendo uma list comprehension:"
   ]
  },
  {
   "cell_type": "code",
   "execution_count": null,
   "metadata": {
    "colab": {
     "base_uri": "https://localhost:8080/",
     "height": 34
    },
    "id": "kZxsUfV6L9gR",
    "outputId": "4254a7d4-58ba-4f70-a963-20c46b485b72"
   },
   "outputs": [],
   "source": [
    "nums = [0, 1, 2, 3, 4]\n",
    "squares = [x ** 2 for x in nums]\n",
    "print(squares)"
   ]
  },
  {
   "cell_type": "markdown",
   "metadata": {
    "id": "-D8ARK7tL9gV"
   },
   "source": [
    "List comprehensions também podem conter condições:"
   ]
  },
  {
   "cell_type": "code",
   "execution_count": null,
   "metadata": {
    "colab": {
     "base_uri": "https://localhost:8080/",
     "height": 34
    },
    "id": "yUtgOyyYL9gV",
    "outputId": "1ae7ab58-8119-44dc-8e57-fda09197d026"
   },
   "outputs": [],
   "source": [
    "nums = [0, 1, 2, 3, 4]\n",
    "even_squares = [x ** 2 for x in nums if x % 2 == 0]\n",
    "print(even_squares)"
   ]
  },
  {
   "cell_type": "markdown",
   "metadata": {
    "id": "H8xsUEFpL9gZ"
   },
   "source": [
    "#### Dicionários"
   ]
  },
  {
   "cell_type": "markdown",
   "metadata": {
    "id": "kkjAGMAJL9ga"
   },
   "source": [
    "Um dicionário armazena pares (chave `key`, valor `value`), semelhante a um `Map` em Java ou um objeto em Javascript. Pode ser utilizado assim:"
   ]
  },
  {
   "cell_type": "code",
   "execution_count": null,
   "metadata": {
    "colab": {
     "base_uri": "https://localhost:8080/",
     "height": 52
    },
    "id": "XBYI1MrYL9gb",
    "outputId": "8e24c1da-0fc0-4b4c-a3e6-6f758a53b7da"
   },
   "outputs": [],
   "source": [
    "d = {'cat': 'cute', 'dog': 'furry'}  # Crie um novo dicionário com alguns dados\n",
    "print(d['cat'])       # Obtenha uma entrada de um dicionário; imprime \"cute\"\n",
    "print('cat' in d)     # Verifique se um dicionário possui uma determinada chave; imprime \"True\""
   ]
  },
  {
   "cell_type": "code",
   "execution_count": null,
   "metadata": {
    "colab": {
     "base_uri": "https://localhost:8080/",
     "height": 34
    },
    "id": "pS7e-G-HL9gf",
    "outputId": "feb4bf18-c0a3-42a2-eaf5-3fc390f36dcf"
   },
   "outputs": [],
   "source": [
    "d['fish'] = 'wet'    # Definir uma entrada num dicionário\n",
    "print(d['fish'])      # Imprime \"wet\""
   ]
  },
  {
   "cell_type": "code",
   "execution_count": null,
   "metadata": {
    "colab": {
     "base_uri": "https://localhost:8080/",
     "height": 165
    },
    "id": "tFY065ItL9gi",
    "outputId": "7e42a5f0-1856-4608-a927-0930ab37a66c"
   },
   "outputs": [],
   "source": [
    "print(d['monkey'])  # KeyError: 'monkey' não é uma chave de d"
   ]
  },
  {
   "cell_type": "code",
   "execution_count": null,
   "metadata": {
    "colab": {
     "base_uri": "https://localhost:8080/",
     "height": 52
    },
    "id": "8TjbEWqML9gl",
    "outputId": "ef14d05e-401d-4d23-ed1a-0fe6b4c77d6f"
   },
   "outputs": [],
   "source": [
    "print(d.get('monkey', 'N/A'))  # Obtenha um elemento com um padrão; imprime \"N / A\"\n",
    "print(d.get('fish', 'N/A'))    # Obtenha um elemento com um padrão; imprime \"wet\""
   ]
  },
  {
   "cell_type": "code",
   "execution_count": null,
   "metadata": {
    "colab": {
     "base_uri": "https://localhost:8080/",
     "height": 34
    },
    "id": "0EItdNBJL9go",
    "outputId": "652a950f-b0c2-4623-98bd-0191b300cd57"
   },
   "outputs": [],
   "source": [
    "del d['fish']        # Remova um elemento de um dicionário\n",
    "print(d.get('fish', 'N/A')) # \"fish\" não é mais uma chave; imprime \"N / A\""
   ]
  },
  {
   "cell_type": "markdown",
   "metadata": {
    "id": "wqm4dRZNL9gr"
   },
   "source": [
    "Podes encontrar tudo o que necessitas na [documentação](https://docs.python.org/2/library/stdtypes.html#dict)."
   ]
  },
  {
   "cell_type": "markdown",
   "metadata": {
    "id": "IxwEqHlGL9gr"
   },
   "source": [
    "É fácil iterar nas chaves de um dicionário:"
   ]
  },
  {
   "cell_type": "code",
   "execution_count": null,
   "metadata": {
    "colab": {
     "base_uri": "https://localhost:8080/",
     "height": 69
    },
    "id": "rYfz7ZKNL9gs",
    "outputId": "155bdb17-3179-4292-c832-8166e955e942"
   },
   "outputs": [],
   "source": [
    "d = {'person': 2, 'cat': 4, 'spider': 8}\n",
    "for animal, legs in d.items():\n",
    "    print('A {} has {} legs'.format(animal, legs))"
   ]
  },
  {
   "cell_type": "markdown",
   "metadata": {
    "id": "17sxiOpzL9gz"
   },
   "source": [
    "Compreensões de dicionário: são semelhantes às compreensões de lista, pois permitem criar dicionários facilmente. Por exemplo:"
   ]
  },
  {
   "cell_type": "code",
   "execution_count": null,
   "metadata": {
    "colab": {
     "base_uri": "https://localhost:8080/",
     "height": 34
    },
    "id": "8PB07imLL9gz",
    "outputId": "e9ddf886-39ed-4f35-dd80-64a19d2eec9b"
   },
   "outputs": [],
   "source": [
    "nums = [0, 1, 2, 3, 4]\n",
    "even_num_to_square = {x: x ** 2 for x in nums if x % 2 == 0}\n",
    "print(even_num_to_square)"
   ]
  },
  {
   "cell_type": "markdown",
   "metadata": {
    "id": "V9MHfUdvL9g2"
   },
   "source": [
    "#### Conjuntos `Sets`"
   ]
  },
  {
   "cell_type": "markdown",
   "metadata": {
    "id": "Rpm4UtNpL9g2"
   },
   "source": [
    "Um conjunto é uma coleção não ordenada de elementos distintos. Como um exemplo simples, considere o seguinte:"
   ]
  },
  {
   "cell_type": "code",
   "execution_count": null,
   "metadata": {
    "colab": {
     "base_uri": "https://localhost:8080/",
     "height": 52
    },
    "id": "MmyaniLsL9g2",
    "outputId": "8f152d48-0a07-432a-cf98-8de4fd57ddbb"
   },
   "outputs": [],
   "source": [
    "animals = {'cat', 'dog'}\n",
    "print('cat' in animals)   # Verifique se um elemento está em um conjunto; imprime \"Verdadeiro\"\n",
    "print('fish' in animals)  # Imprime \"False\"\n"
   ]
  },
  {
   "cell_type": "code",
   "execution_count": null,
   "metadata": {
    "colab": {
     "base_uri": "https://localhost:8080/",
     "height": 52
    },
    "id": "ElJEyK86L9g6",
    "outputId": "b9d7dab9-5a98-41cd-efbc-786d0c4377f7"
   },
   "outputs": [],
   "source": [
    "animals.add('fish')      # Adiciona um elemento a um conjunto\n",
    "print('fish' in animals)\n",
    "print(len(animals))       # Imprime o número de elementos num conjunto;"
   ]
  },
  {
   "cell_type": "code",
   "execution_count": null,
   "metadata": {
    "colab": {
     "base_uri": "https://localhost:8080/",
     "height": 52
    },
    "id": "5uGmrxdPL9g9",
    "outputId": "e644d24c-26c6-4b43-ab15-8aa81fe884d4"
   },
   "outputs": [],
   "source": [
    "animals.add('cat')       # Adicionar um elemento que já está no conjunto não faz nada\n",
    "print(len(animals))       \n",
    "animals.remove('cat')    # Remove um elemento de um conjunto\n",
    "print(len(animals))       "
   ]
  },
  {
   "cell_type": "markdown",
   "metadata": {
    "id": "zk2DbvLKL9g_"
   },
   "source": [
    "* Loops *: Iterar sobre um conjunto tem a mesma sintaxe que iterar sobre uma lista; no entanto, como os conjuntos não são ordenados, não se pode fazer suposições sobre a ordem em que visita os elementos do conjunto:"
   ]
  },
  {
   "cell_type": "code",
   "execution_count": null,
   "metadata": {
    "colab": {
     "base_uri": "https://localhost:8080/",
     "height": 69
    },
    "id": "K47KYNGyL9hA",
    "outputId": "4477f897-4355-4816-b39b-b93ffbac4bf0"
   },
   "outputs": [],
   "source": [
    "animals = {'cat', 'dog', 'fish'}\n",
    "for idx, animal in enumerate(animals):\n",
    "    print('#{}: {}'.format(idx + 1, animal))"
   ]
  },
  {
   "cell_type": "markdown",
   "metadata": {
    "id": "puq4S8buL9hC"
   },
   "source": [
    "Compreensões de conjuntos: como listas e dicionários, podemos construir conjuntos facilmente usando compreensões de conjuntos:"
   ]
  },
  {
   "cell_type": "code",
   "execution_count": null,
   "metadata": {
    "colab": {
     "base_uri": "https://localhost:8080/",
     "height": 34
    },
    "id": "iw7k90k3L9hC",
    "outputId": "72d6b824-6d31-47b2-f929-4cf434590ee5"
   },
   "outputs": [],
   "source": [
    "from math import sqrt\n",
    "print({int(sqrt(x)) for x in range(30)})"
   ]
  },
  {
   "cell_type": "markdown",
   "metadata": {
    "id": "qPsHSKB1L9hF"
   },
   "source": [
    "#### Tuples"
   ]
  },
  {
   "cell_type": "markdown",
   "metadata": {
    "id": "kucc0LKVL9hG"
   },
   "source": [
    "Um tuple é uma lista ordenada (imutável) de valores. Um tuple é, em muitos aspectos, semelhante a uma lista; uma das diferenças mais importantes é que tuplas podem ser usadas como chaves em dicionários e como elementos de conjuntos, enquanto listas não. Aqui está um exemplo trivial:"
   ]
  },
  {
   "cell_type": "code",
   "execution_count": null,
   "metadata": {
    "colab": {
     "base_uri": "https://localhost:8080/",
     "height": 69
    },
    "id": "9wHUyTKxL9hH",
    "outputId": "cdc5f620-04fe-4b0b-df7a-55b061d23d88"
   },
   "outputs": [],
   "source": [
    "d = {(x, x + 1): x for x in range(10)}  # Cria um dicionário com chaves de tuples\n",
    "t = (5, 6)       # Cria um tuple\n",
    "print(type(t))\n",
    "print(d[t])       \n",
    "print(d[(1, 2)])"
   ]
  },
  {
   "cell_type": "markdown",
   "metadata": {
    "id": "AXA4jrEOL9hM"
   },
   "source": [
    "### Funções"
   ]
  },
  {
   "cell_type": "markdown",
   "metadata": {
    "id": "WaRms-QfL9hN"
   },
   "source": [
    "As funções em Python são definidas usando a palavra-chave `def`. Por exemplo:"
   ]
  },
  {
   "cell_type": "code",
   "execution_count": null,
   "metadata": {
    "colab": {
     "base_uri": "https://localhost:8080/",
     "height": 69
    },
    "id": "kiMDUr58L9hN",
    "outputId": "9f53bf9a-7b2a-4c51-9def-398e4677cd6c"
   },
   "outputs": [],
   "source": [
    "def sign(x):\n",
    "    if x > 0:\n",
    "        return 'positive'\n",
    "    elif x < 0:\n",
    "        return 'negative'\n",
    "    else:\n",
    "        return 'zero'\n",
    "\n",
    "for x in [-1, 0, 1]:\n",
    "    print(sign(x))"
   ]
  },
  {
   "cell_type": "markdown",
   "metadata": {
    "id": "U-QJFt8TL9hR"
   },
   "source": [
    "Frequentemente, definiremos funções para aceitar argumentos de palavra-chave opcionais, como este:"
   ]
  },
  {
   "cell_type": "code",
   "execution_count": null,
   "metadata": {
    "colab": {
     "base_uri": "https://localhost:8080/",
     "height": 52
    },
    "id": "PfsZ3DazL9hR",
    "outputId": "6e6af832-67d8-4d8c-949b-335927684ae3"
   },
   "outputs": [],
   "source": [
    "def hello(name, loud=False):\n",
    "    if loud:\n",
    "        print('HELLO, {}'.format(name.upper()))\n",
    "    else:\n",
    "        print('Hello, {}!'.format(name))\n",
    "\n",
    "hello('Bob')\n",
    "hello('Fred', loud=True)"
   ]
  },
  {
   "cell_type": "markdown",
   "metadata": {
    "id": "ObA9PRtQL9hT"
   },
   "source": [
    "### Classes"
   ]
  },
  {
   "cell_type": "markdown",
   "metadata": {
    "id": "hAzL_lTkL9hU"
   },
   "source": [
    "A sintaxe para definir classes em Python é direta:"
   ]
  },
  {
   "cell_type": "code",
   "execution_count": null,
   "metadata": {
    "colab": {
     "base_uri": "https://localhost:8080/",
     "height": 52
    },
    "id": "RWdbaGigL9hU",
    "outputId": "4f6615c5-75a7-4ce4-8ea1-1e7f5e4e9fc3"
   },
   "outputs": [],
   "source": [
    "class Greeter:\n",
    "\n",
    "    # Construtor\n",
    "    def __init__(self, name):\n",
    "        self.name = name  # Crie uma variável de instância\n",
    "\n",
    "    # Instance method\n",
    "    def greet(self, loud=False):\n",
    "        if loud:\n",
    "          print('HELLO, {}'.format(self.name.upper()))\n",
    "        else:\n",
    "          print('Hello, {}!'.format(self.name))\n",
    "\n",
    "g = Greeter('Fred')  # Construir uma instância da classe Greeter\n",
    "g.greet()            # Chama por um método de instância; imprime \"Hello, Fred\"\n",
    "g.greet(loud=True)   # Chama por um método de instância; imprime \"HELLO, FRED!\""
   ]
  },
  {
   "cell_type": "markdown",
   "metadata": {
    "id": "3cfrOV4dL9hW"
   },
   "source": [
    "## Numpy"
   ]
  },
  {
   "cell_type": "markdown",
   "metadata": {
    "id": "fY12nHhyL9hX"
   },
   "source": [
    "Numpy é a biblioteca central para computação científica em Python. Ela fornece um objeto de matriz multidimensional de alto desempenho e ferramentas para trabalhar com essas matrizes. Mais informação na [documentação](https://numpy.org/doc/stable/reference/?v=20211116120726)"
   ]
  },
  {
   "cell_type": "markdown",
   "metadata": {
    "id": "lZMyAdqhL9hY"
   },
   "source": [
    "Para usar o Numpy, primeiro precisamos importar o pacote `numpy`:"
   ]
  },
  {
   "cell_type": "code",
   "execution_count": null,
   "metadata": {
    "id": "58QdX8BLL9hZ"
   },
   "outputs": [],
   "source": [
    "import numpy as np"
   ]
  },
  {
   "cell_type": "markdown",
   "metadata": {
    "id": "DDx6v1EdL9hb"
   },
   "source": [
    "### Arrays (matriz)"
   ]
  },
  {
   "cell_type": "markdown",
   "metadata": {
    "id": "f-Zv3f7LL9hc"
   },
   "source": [
    "Uma matriz numpy é uma grade de valores, todos do mesmo tipo, e é indexada por uma tupla de inteiros não negativos. O número de dimensões é a classificação da matriz; a forma de uma matriz é uma tupla de inteiros fornecendo o tamanho da matriz ao longo de cada dimensão."
   ]
  },
  {
   "cell_type": "markdown",
   "metadata": {
    "id": "_eMTRnZRL9hc"
   },
   "source": [
    "Podemos inicializar matrizes numpy a partir de listas Python aninhadas e acessar elementos usando colchetes:"
   ]
  },
  {
   "cell_type": "code",
   "execution_count": null,
   "metadata": {
    "colab": {
     "base_uri": "https://localhost:8080/",
     "height": 52
    },
    "id": "-l3JrGxCL9hc",
    "outputId": "8d9dad18-c734-4a8a-ca8c-44060a40fb79"
   },
   "outputs": [],
   "source": [
    "a = np.array([1, 2, 3])  # Criar ranking de 1 array\n",
    "print(type(a), a.shape, a[0], a[1], a[2])\n",
    "a[0] = 5                 # Alterar um elemento num array\n",
    "print(a)                  "
   ]
  },
  {
   "cell_type": "code",
   "execution_count": null,
   "metadata": {
    "colab": {
     "base_uri": "https://localhost:8080/",
     "height": 52
    },
    "id": "ma6mk-kdL9hh",
    "outputId": "0b54ff2f-e7f1-4b30-c653-9bf81cb8fbb0"
   },
   "outputs": [],
   "source": [
    "b = np.array([[1,2,3],[4,5,6]])   # Criar ranking de 2 array\n",
    "print(b)"
   ]
  },
  {
   "cell_type": "code",
   "execution_count": null,
   "metadata": {
    "colab": {
     "base_uri": "https://localhost:8080/",
     "height": 52
    },
    "id": "ymfSHAwtL9hj",
    "outputId": "5bd292d8-c751-43b9-d480-f357dde52342"
   },
   "outputs": [],
   "source": [
    "print(b.shape)\n",
    "print(b[0, 0], b[0, 1], b[1, 0])"
   ]
  },
  {
   "cell_type": "markdown",
   "metadata": {
    "id": "F2qwdyvuL9hn"
   },
   "source": [
    "O Numpy também oferece muitas funções para criar matrizes:"
   ]
  },
  {
   "cell_type": "code",
   "execution_count": null,
   "metadata": {
    "colab": {
     "base_uri": "https://localhost:8080/",
     "height": 52
    },
    "id": "mVTN_EBqL9hn",
    "outputId": "d267c65f-ba90-4043-cedb-f468ab1bcc5d"
   },
   "outputs": [],
   "source": [
    "a = np.zeros((2,2))  # Crie uma matriz apenas com zeros\n",
    "print(a)"
   ]
  },
  {
   "cell_type": "code",
   "execution_count": null,
   "metadata": {
    "colab": {
     "base_uri": "https://localhost:8080/",
     "height": 34
    },
    "id": "skiKlNmlL9h5",
    "outputId": "7d1ec1b5-a1fe-4f44-cbe3-cdeacad425f1"
   },
   "outputs": [],
   "source": [
    "b = np.ones((1,2))   # Crie uma matriz apenas com uns\n",
    "print(b)"
   ]
  },
  {
   "cell_type": "code",
   "execution_count": null,
   "metadata": {
    "colab": {
     "base_uri": "https://localhost:8080/",
     "height": 52
    },
    "id": "HtFsr03bL9h7",
    "outputId": "2688b157-2fad-4fc6-f20b-8633207f0326"
   },
   "outputs": [],
   "source": [
    "c = np.full((2,2), 7) # Crie uma matriz constante\n",
    "print(c)"
   ]
  },
  {
   "cell_type": "code",
   "execution_count": null,
   "metadata": {
    "colab": {
     "base_uri": "https://localhost:8080/",
     "height": 52
    },
    "id": "-QcALHvkL9h9",
    "outputId": "5035d6fe-cb7e-4222-c972-55fe23c9d4c0"
   },
   "outputs": [],
   "source": [
    "d = np.eye(2)        # Crie uma matriz de identidade 2x2\n",
    "print(d)"
   ]
  },
  {
   "cell_type": "code",
   "execution_count": null,
   "metadata": {
    "colab": {
     "base_uri": "https://localhost:8080/",
     "height": 52
    },
    "id": "RCpaYg9qL9iA",
    "outputId": "25f0b387-39cf-42f3-8701-de860cc75e2e"
   },
   "outputs": [],
   "source": [
    "e = np.random.random((2,2)) # Crie uma matriz preenchida com valores aleatórios\n",
    "print(e)"
   ]
  },
  {
   "cell_type": "markdown",
   "metadata": {
    "id": "jTctwqdQL9ih"
   },
   "source": [
    "### Tipo de Dados"
   ]
  },
  {
   "cell_type": "markdown",
   "metadata": {
    "id": "kSZQ1WkIL9ih"
   },
   "source": [
    "Cada matriz numpy é uma grade de elementos do mesmo tipo. Numpy fornece um grande conjunto de tipos de dados numéricos que se podem usar para construir matrizes. O Numpy tenta adivinhar um tipo de dados quando se cria uma matriz, mas as funções que constroem matrizes geralmente também incluem um argumento opcional para especificar explicitamente o tipo de dados. Aqui está um exemplo:"
   ]
  },
  {
   "cell_type": "code",
   "execution_count": null,
   "metadata": {
    "colab": {
     "base_uri": "https://localhost:8080/",
     "height": 34
    },
    "id": "4za4O0m5L9ih",
    "outputId": "2ea4fb80-a4df-43f9-c162-5665895c13ae"
   },
   "outputs": [],
   "source": [
    "x = np.array([1, 2])  # Deixar numpy escolher o tipo de dados\n",
    "y = np.array([1.0, 2.0])  # Deixar numpy escolher o tipo de dados\n",
    "z = np.array([1, 2], dtype=np.int64)  # Forçar um determinado tipo de dados\n",
    "\n",
    "print(x.dtype, y.dtype, z.dtype)"
   ]
  },
  {
   "cell_type": "markdown",
   "metadata": {
    "id": "RLVIsZQpL9ik"
   },
   "source": [
    "Informação sobre os tipos de dados numpy na [documentação](http://docs.scipy.org/doc/numpy/reference/arrays.dtypes.html)."
   ]
  },
  {
   "cell_type": "markdown",
   "metadata": {
    "id": "tEINf4bEL9jR"
   },
   "source": [
    "## Matplotlib"
   ]
  },
  {
   "cell_type": "markdown",
   "metadata": {
    "id": "0hgVWLaXL9jR"
   },
   "source": [
    "Matplotlib é uma biblioteca para representação gráfica."
   ]
  },
  {
   "cell_type": "code",
   "execution_count": null,
   "metadata": {
    "id": "cmh_7c6KL9jR"
   },
   "outputs": [],
   "source": [
    "import matplotlib.pyplot as plt"
   ]
  },
  {
   "cell_type": "markdown",
   "metadata": {
    "id": "jOsaA5hGL9jS"
   },
   "source": [
    "Ao executar este comando especial do iPython, exibiremos gráficos embutidos (inline):"
   ]
  },
  {
   "cell_type": "code",
   "execution_count": null,
   "metadata": {
    "id": "ijpsmwGnL9jT"
   },
   "outputs": [],
   "source": [
    "%matplotlib inline"
   ]
  },
  {
   "cell_type": "markdown",
   "metadata": {
    "id": "U5Z_oMoLL9jV"
   },
   "source": [
    "### Plotting"
   ]
  },
  {
   "cell_type": "code",
   "execution_count": null,
   "metadata": {},
   "outputs": [],
   "source": [
    "#Para criar um gráfico de linha simples, basta fornecer uma lista de valores y para a função plt.plot ().\n",
    "\n",
    "plt.plot([5, 8, 2, 6, 1, 8, 2, 3, 4, 5, 6])"
   ]
  },
  {
   "cell_type": "markdown",
   "metadata": {
    "id": "6QyFJ7dhL9jV"
   },
   "source": [
    "A função mais importante em `matplotlib` é plot, que permite plotar dados 2D. Aqui está um exemplo simples:"
   ]
  },
  {
   "cell_type": "code",
   "execution_count": null,
   "metadata": {
    "colab": {
     "base_uri": "https://localhost:8080/",
     "height": 282
    },
    "id": "pua52BGeL9jW",
    "outputId": "9ac3ee0f-7ff7-463b-b901-c33d21a2b10c"
   },
   "outputs": [],
   "source": [
    "# Calcula as coordenadas x e y para pontos em uma curva seno\n",
    "x = np.arange(0, 3 * np.pi, 0.1)\n",
    "y = np.sin(x)\n",
    "\n",
    "# Traça os pontos usando matplotlib\n",
    "plt.plot(x, y)"
   ]
  },
  {
   "cell_type": "markdown",
   "metadata": {
    "id": "9W2VAcLiL9jX"
   },
   "source": [
    "Com apenas um pouco de trabalho extra, podemos facilmente plotar várias linhas de uma vez e adicionar um título, legenda e rótulos de eixo:"
   ]
  },
  {
   "cell_type": "code",
   "execution_count": null,
   "metadata": {
    "colab": {
     "base_uri": "https://localhost:8080/",
     "height": 312
    },
    "id": "TfCQHJ5AL9jY",
    "outputId": "fdb9c033-0f06-4041-a69d-a0f3a54c7206"
   },
   "outputs": [],
   "source": [
    "y_sin = np.sin(x)\n",
    "y_cos = np.cos(x)\n",
    "\n",
    "# Plot the points using matplotlib\n",
    "plt.plot(x, y_sin)\n",
    "plt.plot(x, y_cos)\n",
    "plt.xlabel('x axis label')\n",
    "plt.ylabel('y axis label')\n",
    "plt.title('Seno and Coseno')\n",
    "plt.legend(['Seno', 'Coseno'])"
   ]
  },
  {
   "cell_type": "markdown",
   "metadata": {
    "id": "R5IeAY03L9ja"
   },
   "source": [
    "### Subplots "
   ]
  },
  {
   "cell_type": "markdown",
   "metadata": {
    "id": "CfUzwJg0L9ja"
   },
   "source": [
    "É possível plotar coisas diferentes na mesma figura usando a função subplot. Aqui está um exemplo:"
   ]
  },
  {
   "cell_type": "code",
   "execution_count": null,
   "metadata": {
    "colab": {
     "base_uri": "https://localhost:8080/",
     "height": 281
    },
    "id": "dM23yGH9L9ja",
    "outputId": "14dfa5ea-f453-4da5-a2ee-fea0de8f72d9"
   },
   "outputs": [],
   "source": [
    "# Calcule as coordenadas x e y para pontos nas curvas seno e cosseno\n",
    "x = np.arange(0, 3 * np.pi, 0.1)\n",
    "y_sin = np.sin(x)\n",
    "y_cos = np.cos(x)\n",
    "\n",
    "# Configure uma grade de subplots com altura 2 e largura 1,\n",
    "# e defina a primeira subplots como ativa.\n",
    "plt.subplot(2, 1, 1)\n",
    "\n",
    "# Produz o primeiro gráfico (plot)\n",
    "plt.plot(x, y_sin)\n",
    "plt.title('Sine')\n",
    "\n",
    "# define o segundo subplot como ativo, e produz o segundo gráfico.\n",
    "plt.subplot(2, 1, 2)\n",
    "plt.plot(x, y_cos)\n",
    "plt.title('Cosine')\n",
    "\n",
    "# mostra a figura.\n",
    "plt.show()"
   ]
  },
  {
   "cell_type": "markdown",
   "metadata": {
    "id": "gLtsST5SL9jc"
   },
   "source": [
    "Mais sobre a função `subplot` na [documentação](http://matplotlib.org/api/pyplot_api.html#matplotlib.pyplot.subplot)."
   ]
  },
  {
   "cell_type": "markdown",
   "metadata": {},
   "source": [
    "## Próximo passo: Onde Aprender Mais?\n",
    "\n",
    "Python oferece uma gama completa de recursos de linguagem de programação, e há uma gama aparentemente infinita de pacotes para cálculos científicos uteis para a análise de dados.\n",
    "Aqui estão algumas sugestões de lugares onde podme ir para obter mais informações sobre programação de ciências de dados em Python.\n",
    "\n",
    "    "
   ]
  },
  {
   "cell_type": "markdown",
   "metadata": {},
   "source": [
    "### Aprendizagem interativa e tutoriais online\n",
    "\n",
    "* [Code Academy on Python](http://www.codecademy.com/tracks/python)\n",
    "* [Khan Academy Videos on Python Programming](https://www.khanacademy.org/science/computer-science-subject/computer-science)\n",
    "* [Python Tutorial](http://docs.python.org/2/tutorial/)\n",
    "* [Think Python: How to Think Like a Computer Scientist](http://www.greenteapress.com/thinkpython/html/index.html)"
   ]
  },
  {
   "cell_type": "markdown",
   "metadata": {},
   "source": [
    "### Documentação oficial, exemplos e galerias\n",
    "\n",
    "* [Notebook Examples](https://jupyter-notebook.readthedocs.io/en/stable/examples/Notebook/examples_index.html#notebook-examples)\n",
    "* [Official Notebook Documentation](https://github.com/jupyter/jupyter/wiki)\n",
    "* [More tutoriais](https://jckantor.github.io/CBE30338/toc.html)\n",
    "* [Matplotlib](http://matplotlib.org/index.html) "
   ]
  },
  {
   "cell_type": "markdown",
   "metadata": {},
   "source": [
    "# Aceder a dados em ficheiros .csv e .xlsx\n",
    "\n",
    "## A biblioteca Pandas será utilizada de forma extensiva para estas análises. Exemplos e tutoriais podem ser acedidos através da [documentação](https://pandas.pydata.org/docs/index.html)"
   ]
  },
  {
   "cell_type": "code",
   "execution_count": null,
   "metadata": {},
   "outputs": [],
   "source": [
    "# importar a biblioteca pandas\n",
    "\n",
    "import pandas as pd"
   ]
  },
  {
   "cell_type": "code",
   "execution_count": null,
   "metadata": {},
   "outputs": [],
   "source": [
    "# Ler um ficheiro .csv\n",
    "\n",
    "df = pd.read_csv(\"data.csv\")\n",
    "df.head()"
   ]
  },
  {
   "cell_type": "code",
   "execution_count": null,
   "metadata": {},
   "outputs": [],
   "source": [
    "# Ler um ficheiro .xlsx\n",
    "\n",
    "df1 = pd.read_excel(\"data.xlsx\")\n",
    "df1.head()"
   ]
  }
 ],
 "metadata": {
  "colab": {
   "collapsed_sections": [],
   "name": "colab-tutorial.ipynb",
   "provenance": []
  },
  "kernelspec": {
   "display_name": "Python 3",
   "language": "python",
   "name": "python3"
  },
  "language_info": {
   "codemirror_mode": {
    "name": "ipython",
    "version": 3
   },
   "file_extension": ".py",
   "mimetype": "text/x-python",
   "name": "python",
   "nbconvert_exporter": "python",
   "pygments_lexer": "ipython3",
   "version": "3.8.5"
  },
  "varInspector": {
   "cols": {
    "lenName": 16,
    "lenType": 16,
    "lenVar": 40
   },
   "kernels_config": {
    "python": {
     "delete_cmd_postfix": "",
     "delete_cmd_prefix": "del ",
     "library": "var_list.py",
     "varRefreshCmd": "print(var_dic_list())"
    },
    "r": {
     "delete_cmd_postfix": ") ",
     "delete_cmd_prefix": "rm(",
     "library": "var_list.r",
     "varRefreshCmd": "cat(var_dic_list()) "
    }
   },
   "types_to_exclude": [
    "module",
    "function",
    "builtin_function_or_method",
    "instance",
    "_Feature"
   ],
   "window_display": false
  }
 },
 "nbformat": 4,
 "nbformat_minor": 1
}